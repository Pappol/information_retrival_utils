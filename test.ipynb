{
 "cells": [
  {
   "cell_type": "code",
   "execution_count": 16,
   "metadata": {},
   "outputs": [],
   "source": [
    "from typing import Dict, List\n",
    "\n",
    "PREFIX = \"##\"\n",
    "UNKNOWN = \"<sep>\"\n",
    "\n",
    "VOCABULARY = {\n",
    "    \"s\": 0,\n",
    "    \"sh\": 1,\n",
    "    \"she\": 2,\n",
    "    \"l\": 3,\n",
    "    \"o\": 4,\n",
    "    \"ck\": 5,\n",
    "    \"##ck\": 6,\n",
    "    \"##s\": 7,\n",
    "    \"##sh\": 8,\n",
    "    \"##she\": 9,\n",
    "    \"##l\": 10,\n",
    "}\n",
    "\n",
    "def tokenize(word: str, vocabulary: Dict[str, int]) -> List[str]:\n",
    "    word = word.lower()\n",
    "    tokens = []\n",
    "\n",
    "    while word.lstrip(PREFIX):\n",
    "        print(word)\n",
    "        for i in range(len(word)):\n",
    "            if word[: len(word) - i] in vocabulary:\n",
    "                tokens.append(word[: len(word) - i])\n",
    "                word = PREFIX + word[len(word) - i:]\n",
    "                break\n",
    "        else:\n",
    "            return [UNKNOWN]\n",
    "\n",
    "    return tokens"
   ]
  },
  {
   "cell_type": "code",
   "execution_count": 17,
   "metadata": {},
   "outputs": [
    {
     "name": "stdout",
     "output_type": "stream",
     "text": [
      "shells\n",
      "##lls\n",
      "##ls\n",
      "##s\n"
     ]
    },
    {
     "data": {
      "text/plain": [
       "['she', '##l', '##l', '##s']"
      ]
     },
     "execution_count": 17,
     "metadata": {},
     "output_type": "execute_result"
    }
   ],
   "source": [
    "tokenize(\"shells\", VOCABULARY)"
   ]
  },
  {
   "cell_type": "code",
   "execution_count": null,
   "metadata": {},
   "outputs": [],
   "source": []
  }
 ],
 "metadata": {
  "kernelspec": {
   "display_name": "text",
   "language": "python",
   "name": "python3"
  },
  "language_info": {
   "codemirror_mode": {
    "name": "ipython",
    "version": 3
   },
   "file_extension": ".py",
   "mimetype": "text/x-python",
   "name": "python",
   "nbconvert_exporter": "python",
   "pygments_lexer": "ipython3",
   "version": "3.8.17"
  }
 },
 "nbformat": 4,
 "nbformat_minor": 2
}
