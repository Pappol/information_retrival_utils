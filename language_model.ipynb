{
 "cells": [
  {
   "cell_type": "markdown",
   "id": "47bd9fabb8bf4ab7",
   "metadata": {
    "collapsed": false
   },
   "source": [
    "# Language Model"
   ]
  },
  {
   "cell_type": "code",
   "execution_count": 2,
   "id": "1cf39319ca899b43",
   "metadata": {
    "ExecuteTime": {
     "end_time": "2023-11-19T17:25:18.380200Z",
     "start_time": "2023-11-19T17:25:18.286042Z"
    },
    "collapsed": false
   },
   "outputs": [],
   "source": [
    "import numpy as np\n",
    "\n",
    "# Given term-document matrix\n",
    "term_document_matrix = np.array([\n",
    "    [1, 1, 2, 1],\n",
    "    [0, 2, 0, 1],\n",
    "    [2, 0, 1, 0],\n",
    "    [4, 0, 1, 2],\n",
    "    [1, 2, 1, 0]\n",
    "])"
   ]
  },
  {
   "cell_type": "code",
   "execution_count": 5,
   "id": "1fcef452ed1338a2",
   "metadata": {
    "ExecuteTime": {
     "end_time": "2023-11-19T17:32:56.799481Z",
     "start_time": "2023-11-19T17:32:56.781108Z"
    },
    "collapsed": false
   },
   "outputs": [
    {
     "name": "stdout",
     "output_type": "stream",
     "text": [
      "P(t5 | d1) = 0.400\n",
      "P(t4 | C) = 0.182\n",
      "P(t2 | Theta_d3) = 0.236\n",
      "Lowest smoothed prob in LM doc2 is term3\n",
      "Top scoring document for query \"term1 term3 term5\" is doc2\n"
     ]
    }
   ],
   "source": [
    "mu = 6\n",
    "doc_length = term_document_matrix.sum(axis=0)\n",
    "collection_length = term_document_matrix.sum()\n",
    "\n",
    "# Function to calculate the probability of a term in the empirical language model of a document\n",
    "def empirical_prob(term_index, doc_index):\n",
    "    return term_document_matrix[term_index, doc_index] / doc_length[doc_index]\n",
    "\n",
    "# Function to calculate the probability of a term in the background language model (entire collection)\n",
    "def background_prob(term_index):\n",
    "    return term_document_matrix[term_index].sum() / collection_length\n",
    "\n",
    "# Function to calculate the probability of a term in the smoothed language model of a document\n",
    "def smoothed_prob(term_index, doc_index):\n",
    "    term_count = term_document_matrix[term_index, doc_index]\n",
    "    return (term_count + mu * background_prob(term_index)) / (doc_length[doc_index] + mu)\n",
    "\n",
    "# Function to calculate the score of a document for a given query\n",
    "def score_doc(query_indices, doc_index):\n",
    "    score = 1\n",
    "    for term_index in query_indices:\n",
    "        score *= smoothed_prob(term_index, doc_index)\n",
    "    return score\n",
    "\n",
    "prob_term5_empirical = empirical_prob(1, 1)\n",
    "print(f\"P(t5 | d1) = {prob_term5_empirical:.3f}\")\n",
    "\n",
    "prob_term4_background = background_prob(4)\n",
    "print(f\"P(t4 | C) = {prob_term4_background:.3f}\")\n",
    "\n",
    "prob_term2_smoothed_doc3 = smoothed_prob(0, 3)\n",
    "print(f\"P(t2 | Theta_d3) = {prob_term2_smoothed_doc3:.3f}\")\n",
    "\n",
    "smoothed_probs_doc2 = [smoothed_prob(i, 1) for i in range(term_document_matrix.shape[0])]\n",
    "term_lowest_prob_doc2 = np.argmin(smoothed_probs_doc2)\n",
    "print(f\"Lowest smoothed prob in LM doc2 is term{term_lowest_prob_doc2+1}\")\n",
    "\n",
    "query_indices = [4, 1]\n",
    "scores = [score_doc(query_indices, i) for i in range(term_document_matrix.shape[1])]\n",
    "top_scoring_doc = np.argmax(scores)\n",
    "print(f\"Top scoring document for query \\\"term1 term3 term5\\\" is doc{top_scoring_doc + 1}\")"
   ]
  }
 ],
 "metadata": {
  "kernelspec": {
   "display_name": "Python 3",
   "language": "python",
   "name": "python3"
  },
  "language_info": {
   "codemirror_mode": {
    "name": "ipython",
    "version": 3
   },
   "file_extension": ".py",
   "mimetype": "text/x-python",
   "name": "python",
   "nbconvert_exporter": "python",
   "pygments_lexer": "ipython3",
   "version": "3.8.17"
  }
 },
 "nbformat": 4,
 "nbformat_minor": 5
}
