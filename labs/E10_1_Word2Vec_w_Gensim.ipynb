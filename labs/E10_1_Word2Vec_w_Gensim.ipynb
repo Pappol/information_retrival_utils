{
  "cells": [
    {
      "cell_type": "markdown",
      "metadata": {
        "id": "8erErqJlrN8V"
      },
      "source": [
        "# Exploring Word2Vec with Gensim"
      ]
    },
    {
      "cell_type": "markdown",
      "metadata": {
        "id": "P9FEOaWsrN8X"
      },
      "source": [
        "## Overview"
      ]
    },
    {
      "cell_type": "markdown",
      "metadata": {
        "id": "km-s_ja2rN8X"
      },
      "source": [
        "Word2Vec is an approach to learning *word embeddings*, vector representations of words that capture semantic and syntactic relationships between words based on their co-occurrences in natural language text.\n",
        "\n",
        "This unsupervised learning approach also reduces the dimensionality of the vectors representing words, which can be helpful for memory and to manage the *curse of dimensionality*, whereby high-dimensional vector spaces lead to a relative data sparsity, e.g., for machine learning."
      ]
    },
    {
      "cell_type": "markdown",
      "metadata": {
        "id": "uDcuhEiBrN8X"
      },
      "source": [
        "In this exercise you will look at the capabilities of Word2Vec as implemented in the module Gensim."
      ]
    },
    {
      "cell_type": "markdown",
      "metadata": {
        "id": "pW5GlR2PrN8Y"
      },
      "source": [
        "## Requirements"
      ]
    },
    {
      "cell_type": "markdown",
      "metadata": {
        "id": "JHwayhworN8Y"
      },
      "source": [
        "Uncomment the lines below, run the installations once as needed, then comment the code out again."
      ]
    },
    {
      "cell_type": "code",
      "execution_count": null,
      "metadata": {
        "id": "f7Pgt9EorN8Y"
      },
      "outputs": [],
      "source": [
        "# !pip install --upgrade pip\n",
        "# !pip install --upgrade Cython\n",
        "# !pip install --upgrade gensim"
      ]
    },
    {
      "cell_type": "markdown",
      "metadata": {
        "id": "-x1hXqJArN8Z"
      },
      "source": [
        "Import all necessary libraries."
      ]
    },
    {
      "cell_type": "code",
      "execution_count": null,
      "metadata": {
        "id": "2AnrOe_QrN8Z"
      },
      "outputs": [],
      "source": [
        "# Import modules and set up logging.\n",
        "from typing import List, Generator\n",
        "import gensim.downloader as api\n",
        "from gensim.models import Word2Vec\n",
        "import logging\n",
        "import numpy as np\n",
        "import os\n",
        "\n",
        "logging.basicConfig(format='%(asctime)s : %(levelname)s : %(message)s', level=logging.INFO)\n",
        "\n",
        "import ipytest\n",
        "import pytest\n",
        "\n",
        "ipytest.autoconfig()"
      ]
    },
    {
      "cell_type": "markdown",
      "metadata": {
        "id": "P60Uvf8yrN8Z"
      },
      "source": [
        "## Download data"
      ]
    },
    {
      "cell_type": "code",
      "execution_count": null,
      "metadata": {
        "colab": {
          "base_uri": "https://localhost:8080/"
        },
        "id": "N7i26KlerN8a",
        "outputId": "57296142-295c-45e0-86f7-8ec8c2656d44"
      },
      "outputs": [
        {
          "name": "stdout",
          "output_type": "stream",
          "text": [
            "{'num_records': 1701, 'record_format': 'list of str (tokens)', 'file_size': 33182058, 'reader_code': 'https://github.com/RaRe-Technologies/gensim-data/releases/download/text8/__init__.py', 'license': 'not found', 'description': 'First 100,000,000 bytes of plain text from Wikipedia. Used for testing purposes; see wiki-english-* for proper full Wikipedia datasets.', 'checksum': '68799af40b6bda07dfa47a32612e5364', 'file_name': 'text8.gz', 'read_more': ['http://mattmahoney.net/dc/textdata.html'], 'parts': 1}\n",
            "[==================================================] 100.0% 31.6/31.6MB downloaded\n"
          ]
        }
      ],
      "source": [
        "# Load the Text8 corpus.\n",
        "print(api.info('text8'))\n",
        "text8_corpus = api.load('text8')"
      ]
    },
    {
      "cell_type": "markdown",
      "metadata": {
        "id": "WHWVODH5rN8a"
      },
      "source": [
        "## Train a model"
      ]
    },
    {
      "cell_type": "code",
      "execution_count": null,
      "metadata": {
        "colab": {
          "base_uri": "https://localhost:8080/"
        },
        "id": "kWbcFsrUrN8a",
        "outputId": "a2b71d3e-7bae-457a-ad42-57d23aa3172f"
      },
      "outputs": [
        {
          "name": "stdout",
          "output_type": "stream",
          "text": [
            "0.6665878\n"
          ]
        }
      ],
      "source": [
        "# Train a Word2Vec model on the Text8 corpus with default hyperparameters.\n",
        "model = Word2Vec(text8_corpus)\n",
        "\n",
        "# Perform a sanity check on the trained model.\n",
        "print(model.wv.similarity('tree', 'leaf'))"
      ]
    },
    {
      "cell_type": "code",
      "execution_count": null,
      "metadata": {
        "id": "5RS3ddp3rN8a"
      },
      "outputs": [],
      "source": [
        "# Reduce logging level.\n",
        "logging.basicConfig(format='%(asctime)s : %(levelname)s : %(message)s', level=logging.WARNING)"
      ]
    },
    {
      "cell_type": "code",
      "execution_count": null,
      "metadata": {
        "colab": {
          "base_uri": "https://localhost:8080/"
        },
        "id": "rHDVIKlFrN8a",
        "outputId": "36068370-a9c5-4f57-f3f0-6ead255fd593"
      },
      "outputs": [
        {
          "name": "stdout",
          "output_type": "stream",
          "text": [
            "[('trees', 0.7079861760139465), ('leaf', 0.6665878295898438), ('bark', 0.6538001894950867), ('vine', 0.6142206788063049), ('fruit', 0.6016198992729187), ('bird', 0.6014313101768494), ('skeleton', 0.574469804763794), ('cave', 0.5741851925849915), ('avl', 0.5740269422531128), ('nest', 0.5717236399650574)]\n",
            "[('bark', 0.7800428867340088), ('coloured', 0.7542052865028381), ('jelly', 0.7346197366714478), ('colored', 0.7331221699714661), ('flower', 0.7298780679702759), ('fried', 0.7292338013648987), ('pollen', 0.7290586829185486), ('abalone', 0.7280126810073853), ('sap', 0.7245625853538513), ('sperm', 0.724285900592804)]\n"
          ]
        }
      ],
      "source": [
        "print(model.wv.most_similar('tree'))\n",
        "print(model.wv.most_similar('leaf'))"
      ]
    },
    {
      "cell_type": "markdown",
      "metadata": {
        "id": "4JfXVHjPrN8a"
      },
      "source": [
        "## Relationships\n",
        "\n",
        "Investigate the relationships between words in terms of trained representations."
      ]
    },
    {
      "cell_type": "markdown",
      "metadata": {
        "id": "fvVb4RZ6rN8a"
      },
      "source": [
        "### Evaluate  analogies\n",
        "With the model you have trained, evaluate the analogy\n",
        "`king-man+woman =~ queen`"
      ]
    },
    {
      "cell_type": "code",
      "execution_count": null,
      "metadata": {
        "colab": {
          "base_uri": "https://localhost:8080/"
        },
        "id": "ZMq0rNp6rN8b",
        "outputId": "ac97c7ee-8878-462c-87ed-fa6ae7759228"
      },
      "outputs": [
        {
          "name": "stdout",
          "output_type": "stream",
          "text": [
            "[('queen', 0.6895353198051453), ('throne', 0.6135202646255493), ('prince', 0.6088247895240784), ('princess', 0.6042246222496033), ('empress', 0.6005150079727173)]\n"
          ]
        }
      ],
      "source": [
        "print(model.wv.most_similar(positive=['king', 'woman'], negative=['man'], topn=5))"
      ]
    },
    {
      "cell_type": "markdown",
      "metadata": {
        "id": "jNPZWXZArN8b"
      },
      "source": [
        "Evaluate the analogy `ship-boat+rocket =~ spacecraft`. How similar are the left-hand side of the analogy to the right-hand side? Implement a function that can find the answer for analogies in general. We assume the right-hand side of the analogy will always be a single, positive term."
      ]
    },
    {
      "cell_type": "code",
      "execution_count": null,
      "metadata": {
        "id": "4Zv5s2AjrN8b"
      },
      "outputs": [],
      "source": [
        "def eval_analogy(model: Word2Vec, lhs_pos: List[str], lhs_neg: List[str], rhs: str)->float:\n",
        "    \"\"\"Returns the similarity between the left-hand and right-hand sides of an anaology.\n",
        "\n",
        "        Arguments:\n",
        "            model: Trained Gensim word2vec model to use.\n",
        "            lhs_pos: List of terms that are positive on the left-hand side in the analogy.\n",
        "            lhs_neg: List of terms that are negative on the left-hand side in the analogy.\n",
        "            rhs: A single positive term on the right-hand side in the analogy.\n",
        "\n",
        "        Returns:\n",
        "            Float of the similarity if right-hand side term is found in the top 500 most similar terms.\n",
        "            Otherwise, return None.\"\"\"\n",
        "    # How similar are the left-hand side of the analogy to the right-hand side?\n",
        "    # Implement a function that can find the answer for analogies in general.\n",
        "    similarities_list = model.most_similar(positive=lhs_pos, negative=lhs_neg, topn=500)\n",
        "    similarities_dict = {}\n",
        "    for term, sim in similarities_list:\n",
        "        similarities_dict[term] = sim\n",
        "    if rhs in similarities_dict:\n",
        "        return similarities_dict[rhs]\n",
        "    else:\n",
        "        print(\"Right-hand side term not found in top 500 most similar terms to the left-hand side analogy.\")\n",
        "        None"
      ]
    },
    {
      "cell_type": "markdown",
      "metadata": {
        "id": "y47NEZeJrN8b"
      },
      "source": [
        "Test:"
      ]
    },
    {
      "cell_type": "code",
      "execution_count": null,
      "metadata": {
        "colab": {
          "base_uri": "https://localhost:8080/"
        },
        "id": "HxbmLvSjrN8c",
        "outputId": "da1f3b5c-e6b7-400d-c4aa-c0dc7bf82aee"
      },
      "outputs": [
        {
          "name": "stdout",
          "output_type": "stream",
          "text": [
            "\u001b[32m.\u001b[0m\u001b[32m                                                                                            [100%]\u001b[0m\n",
            "\u001b[32m\u001b[32m\u001b[1m1 passed\u001b[0m\u001b[32m in 0.02s\u001b[0m\u001b[0m\n"
          ]
        },
        {
          "name": "stderr",
          "output_type": "stream",
          "text": [
            "%%run_pytest[clean] and %%run_pytest are deprecated in favor of %%ipytest. %%ipytest will clean tests, evaluate the cell and then run pytest. To disable cleaning, configure ipytest with ipytest.config(clean=False).\n",
            "ipytest.clean_tests is deprecated in favor of ipytest.clean\n"
          ]
        }
      ],
      "source": [
        "%%run_pytest[clean]\n",
        "\n",
        "def test_eval_analogy():\n",
        "    assert eval_analogy(model.wv, ['ship', 'rocket'], ['boat'], 'spacecraft') == pytest.approx(0.7, abs=1e-1)"
      ]
    },
    {
      "cell_type": "markdown",
      "metadata": {
        "id": "y3T6E2a8rN8c"
      },
      "source": [
        "## Load a pre-trained model"
      ]
    },
    {
      "cell_type": "code",
      "execution_count": null,
      "metadata": {
        "colab": {
          "base_uri": "https://localhost:8080/"
        },
        "id": "4pknof_arN8c",
        "outputId": "ce97eafd-bc92-45de-d160-52ab7e4ff790"
      },
      "outputs": [
        {
          "name": "stdout",
          "output_type": "stream",
          "text": [
            "[==================================================] 100.0% 1662.8/1662.8MB downloaded\n"
          ]
        }
      ],
      "source": [
        "import gensim.downloader as api\n",
        "model_loaded = api.load('word2vec-google-news-300')"
      ]
    },
    {
      "cell_type": "code",
      "execution_count": null,
      "metadata": {
        "id": "zQFYufuxrN8c"
      },
      "outputs": [],
      "source": [
        "loaded_analogy_eval = -1\n",
        "# Evaluate the analogy 'king'-'man'+'woman' compared to 'queen' using the loaded model\n",
        "# and assign the value to the variable `loaded_analogy_eval`.\n",
        "loaded_analogy_eval = eval_analogy(model_loaded, ['king', 'woman'], ['man'], 'queen')"
      ]
    },
    {
      "cell_type": "code",
      "execution_count": null,
      "metadata": {
        "colab": {
          "base_uri": "https://localhost:8080/"
        },
        "id": "E1bW9LVSrN8c",
        "outputId": "d00230c7-4bb3-4d39-9e5c-853b7d65575a"
      },
      "outputs": [
        {
          "name": "stderr",
          "output_type": "stream",
          "text": [
            "%%run_pytest[clean] and %%run_pytest are deprecated in favor of %%ipytest. %%ipytest will clean tests, evaluate the cell and then run pytest. To disable cleaning, configure ipytest with ipytest.config(clean=False).\n",
            "ipytest.clean_tests is deprecated in favor of ipytest.clean\n"
          ]
        },
        {
          "name": "stdout",
          "output_type": "stream",
          "text": [
            "\u001b[32m.\u001b[0m\u001b[32m                                                                                            [100%]\u001b[0m\n",
            "\u001b[32m\u001b[32m\u001b[1m1 passed\u001b[0m\u001b[32m in 0.03s\u001b[0m\u001b[0m\n"
          ]
        }
      ],
      "source": [
        "%%run_pytest[clean]\n",
        "\n",
        "def test_loaded_analogy_eval():\n",
        "    assert loaded_analogy_eval != -1\n",
        "    assert loaded_analogy_eval == pytest.approx(0.7, abs=1e-1)"
      ]
    },
    {
      "cell_type": "markdown",
      "metadata": {
        "id": "SrPRdsZdrN8c"
      },
      "source": [
        "## Train Word2Vec on different corpora"
      ]
    },
    {
      "cell_type": "code",
      "execution_count": null,
      "metadata": {
        "colab": {
          "base_uri": "https://localhost:8080/"
        },
        "id": "hC7wUGL6rN8c",
        "outputId": "fda898b7-e315-4c07-8a92-f358fb4ccbe7"
      },
      "outputs": [
        {
          "name": "stdout",
          "output_type": "stream",
          "text": [
            "--2023-10-13 15:28:09--  https://raw.githubusercontent.com/gsurma/text_predictor/master/data/kanye/input.txt\n",
            "Resolving raw.githubusercontent.com (raw.githubusercontent.com)... 185.199.108.133, 185.199.109.133, 185.199.110.133, ...\n",
            "Connecting to raw.githubusercontent.com (raw.githubusercontent.com)|185.199.108.133|:443... connected.\n",
            "HTTP request sent, awaiting response... 200 OK\n",
            "Length: 330453 (323K) [text/plain]\n",
            "Saving to: ‘input.txt’\n",
            "\n",
            "input.txt           100%[===================>] 322.71K  --.-KB/s    in 0.03s   \n",
            "\n",
            "2023-10-13 15:28:09 (10.1 MB/s) - ‘input.txt’ saved [330453/330453]\n",
            "\n",
            "--2023-10-13 15:28:09--  https://raw.githubusercontent.com/gsurma/text_predictor/master/data/shakespeare/input.txt\n",
            "Resolving raw.githubusercontent.com (raw.githubusercontent.com)... 185.199.108.133, 185.199.109.133, 185.199.110.133, ...\n",
            "Connecting to raw.githubusercontent.com (raw.githubusercontent.com)|185.199.108.133|:443... connected.\n",
            "HTTP request sent, awaiting response... 200 OK\n",
            "Length: 4573338 (4.4M) [text/plain]\n",
            "Saving to: ‘input.txt’\n",
            "\n",
            "input.txt           100%[===================>]   4.36M  --.-KB/s    in 0.06s   \n",
            "\n",
            "2023-10-13 15:28:10 (70.0 MB/s) - ‘input.txt’ saved [4573338/4573338]\n",
            "\n"
          ]
        }
      ],
      "source": [
        "# Download the rap lyrics of Kanye West.\n",
        "! wget https://raw.githubusercontent.com/gsurma/text_predictor/master/data/kanye/input.txt\n",
        "! mv input.txt kanye.txt\n",
        "\n",
        "# Download the complete works of William Shakespeare.\n",
        "! wget https://raw.githubusercontent.com/gsurma/text_predictor/master/data/shakespeare/input.txt\n",
        "! mv input.txt shakespeare.txt"
      ]
    },
    {
      "cell_type": "code",
      "execution_count": null,
      "metadata": {
        "id": "_hUkv9ZirN8d"
      },
      "outputs": [],
      "source": [
        "from gensim.test.utils import datapath\n",
        "from gensim import utils\n",
        "\n",
        "class MyCorpus:\n",
        "    \"\"\"An interator that yields sentences (lists of str).\"\"\"\n",
        "    def __init__(self, data: str) -> None:\n",
        "        self.data = data\n",
        "\n",
        "    def __iter__(self) -> Generator[List[str], None, None]:\n",
        "        corpus_path = datapath(self.data)\n",
        "        for line in open(corpus_path):\n",
        "            # assume there's one document per line, tokens separated by whitespace\n",
        "            yield utils.simple_preprocess(line)"
      ]
    },
    {
      "cell_type": "markdown",
      "metadata": {
        "id": "sOK7dp0vrN8d"
      },
      "source": [
        "Separately train two new models using the two different datasets, and compare how these datasets affect relationships between"
      ]
    },
    {
      "cell_type": "code",
      "execution_count": null,
      "metadata": {
        "id": "syhlDRCXrN8d"
      },
      "outputs": [],
      "source": [
        "kanye_data = MyCorpus(os.getcwd()+'/kanye.txt')\n",
        "shakespeare_data = MyCorpus(os.getcwd()+'/shakespeare.txt')"
      ]
    },
    {
      "cell_type": "code",
      "execution_count": null,
      "metadata": {
        "id": "SSZUSqyHrN8d"
      },
      "outputs": [],
      "source": [
        "kanye_model = None\n",
        "# Train a Word2Vec model on the Kanye corpus, and name it `kanye_model`.\n",
        "kanye_model = Word2Vec(sentences=kanye_data)"
      ]
    },
    {
      "cell_type": "code",
      "execution_count": null,
      "metadata": {
        "id": "xN4oiKairN8d"
      },
      "outputs": [],
      "source": [
        "shakespeare_model = None\n",
        "# Train a Word2Vec model on the Shakespeare corpus, and name it `shakespeare_model`.\n",
        "shakespeare_model = Word2Vec(sentences=shakespeare_data)"
      ]
    },
    {
      "cell_type": "markdown",
      "metadata": {
        "id": "kvvBEVm1rN8d"
      },
      "source": [
        "For each of the models, we can easily find words where the two models learn very different similarities."
      ]
    },
    {
      "cell_type": "code",
      "execution_count": null,
      "metadata": {
        "colab": {
          "base_uri": "https://localhost:8080/"
        },
        "id": "1yaa2hWkrN8d",
        "outputId": "d2a05a58-ead7-4e2d-872f-3cce7e1d9226"
      },
      "outputs": [
        {
          "name": "stdout",
          "output_type": "stream",
          "text": [
            "[('our', 0.9988145232200623), ('big', 0.998805582523346), ('always', 0.9987574219703674), ('as', 0.9987520575523376), ('or', 0.9987413883209229)]\n",
            "[('prince', 0.8835847973823547), ('bolingbroke', 0.7122901678085327), ('duke', 0.6925632953643799), ('crown', 0.6918205618858337), ('fifth', 0.6868830323219299)]\n"
          ]
        }
      ],
      "source": [
        "# For example, compare:\n",
        "print(kanye_model.wv.most_similar(positive=['king'], topn=5))\n",
        "print(shakespeare_model.wv.most_similar(positive=['king'], topn=5))"
      ]
    },
    {
      "cell_type": "markdown",
      "metadata": {
        "id": "1C8JgtObrN8e"
      },
      "source": [
        "For more information about Gensim, see https://radimrehurek.com/gensim."
      ]
    }
  ],
  "metadata": {
    "colab": {
      "provenance": []
    },
    "interpreter": {
      "hash": "4f36a626e24aa200704e7a1da8e159d79437a6ae015274136a84a715398481c5"
    },
    "kernelspec": {
      "display_name": "Python 3.9.7 64-bit ('dat640': conda)",
      "name": "python3"
    },
    "language_info": {
      "codemirror_mode": {
        "name": "ipython",
        "version": 3
      },
      "file_extension": ".py",
      "mimetype": "text/x-python",
      "name": "python",
      "nbconvert_exporter": "python",
      "pygments_lexer": "ipython3",
      "version": "3.9.7"
    }
  },
  "nbformat": 4,
  "nbformat_minor": 0
}
