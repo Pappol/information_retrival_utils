{
  "cells": [
    {
      "cell_type": "markdown",
      "metadata": {
        "id": "AJRenFNIYAvp"
      },
      "source": []
    },
    {
      "cell_type": "markdown",
      "metadata": {
        "id": "CZmX7MHBNQbH"
      },
      "source": [
        "# Entity linking incorporated retrieval (ELR)\n",
        "\n",
        "In this exercise you will implement the entity matches feature function:  \n",
        "$$\t\t      \tf_{E}(e_i; e) = \\log \\sum_{f \\in \\tilde{F}} w_{f}^{E} \\left( (1- \\lambda )\\, \\mathbb{1}(e_i , f_{\\tilde{e}}) + \\lambda\\, \\frac{\\sum_{e' \\in E} \\mathbb{1}(e_i,f_{\\tilde{e}'})}{|\\{e' \\in E : f_{\\tilde{e}'} \\neq \\emptyset\\}|} \\right)\n",
        "$$"
      ]
    },
    {
      "cell_type": "code",
      "execution_count": null,
      "metadata": {
        "id": "2ooC3b5yl0d8"
      },
      "outputs": [],
      "source": [
        "import ipytest\n",
        "import math\n",
        "import pytest\n",
        "from typing import Dict, List, Tuple\n",
        "\n",
        "ipytest.autoconfig()"
      ]
    },
    {
      "cell_type": "markdown",
      "metadata": {
        "id": "3R_LcRk3l1kw"
      },
      "source": [
        "Term-based representations. These representations are only given to provide some context for a better understanding of the entity-based representations.\n"
      ]
    },
    {
      "cell_type": "code",
      "execution_count": null,
      "metadata": {
        "id": "7UGHUhUCmRlb"
      },
      "outputs": [],
      "source": [
        "TERM_BASED_REPS = [{\n",
        "    \"label\": \"Ann Dunham\",\n",
        "     \"abstract\": \"\"\"Stanley Ann Dunham the mother Barack Obama, was an American\n",
        "        anthropologist who ...\"\"\",\n",
        "     \"birthPlace\": \"Honolulu Hawaii ...\",\n",
        "     \"child\": \"Barack Obama\",\n",
        "     \"wikiPageWikiLink\": \"United States Family Barack Obama\",\n",
        "     },\n",
        "     {\n",
        "    \"label\": \"Michael Jackson\",\n",
        "     \"abstract\": \"\"\"Michael Joseph Jackson (August 29, 1958 – June 25, 2009)\n",
        "        was an American singer, songwriter, and dancer. Dubbed the \"King of\n",
        "        Pop\", he is regarded as one of the most significant cultural figures\n",
        "        of the 20th century. Over a four-decade career, his contributions to\n",
        "        music, dance, and fashion...\"\"\",\n",
        "     \"birthPlace\": \"Gary Indiana\",\n",
        "     \"wikiPageWikiLink\": \"35th_Annual_Grammy_Awards, A._R._Rahman, ...\",\n",
        "}]"
      ]
    },
    {
      "cell_type": "markdown",
      "metadata": {
        "id": "boVynYeao1OQ"
      },
      "source": [
        "Entity-based representations\n"
      ]
    },
    {
      "cell_type": "code",
      "execution_count": null,
      "metadata": {
        "id": "r30TiXrJo1mM"
      },
      "outputs": [],
      "source": [
        "ENTITY_BASED_REPS = [{\n",
        "    \"birthPlace\": [\"<Honolulu>\", \"<Hawaii>\"],\n",
        "    \"child\": [\"<Barack_Obama>\"],\n",
        "    \"wikiPageWikiLink\": [\"<United_States>\", \"<Family_of_Barack_Obama>\"],\n",
        "    },\n",
        "    {\n",
        "    \"birthPlace\": [\"<Gary_Indiana>\"],\n",
        "    \"wikiPageWikiLink\": [\"<35th_Annual_Grammy_Awards>\", \"<A._R._Rahman>\"],\n",
        "}]"
      ]
    },
    {
      "cell_type": "markdown",
      "metadata": {
        "id": "JvHePuLataJt"
      },
      "source": [
        "Field weights"
      ]
    },
    {
      "cell_type": "code",
      "execution_count": null,
      "metadata": {
        "id": "w9BK2HN-tasF"
      },
      "outputs": [],
      "source": [
        "FIELD_WEIGHTS = {\n",
        "    \"birthPlace\": 0.4,\n",
        "    \"child\": 0.4,\n",
        "    \"wikiPageWikiLink\": 0.2,\n",
        "}"
      ]
    },
    {
      "cell_type": "markdown",
      "metadata": {
        "id": "z_VAH6Sho_sc"
      },
      "source": [
        "Query"
      ]
    },
    {
      "cell_type": "code",
      "execution_count": null,
      "metadata": {
        "id": "W90DPLPupOeq"
      },
      "outputs": [],
      "source": [
        "QUERY = (\"barack obama parents\", [\"<Barack_Obama>\"])"
      ]
    },
    {
      "cell_type": "markdown",
      "metadata": {
        "id": "-vbGQp3spiR3"
      },
      "source": [
        "## Entity matches feature function\n",
        "\n",
        "$$\t\t      \tf_{E}(e_i; e) = \\log \\sum_{f \\in \\tilde{F}} w_{f}^{E} \\left( (1- \\lambda )\\, \\mathbb{1}(e_i , f_{\\tilde{e}}) + \\lambda\\, \\frac{\\sum_{e' \\in E} \\mathbb{1}(e_i,f_{\\tilde{e}'})}{|\\{e' \\in E : f_{\\tilde{e}'} \\neq \\emptyset\\}|} \\right)\n",
        "$$"
      ]
    },
    {
      "cell_type": "markdown",
      "metadata": {
        "id": "oj_viy_griBK"
      },
      "source": [
        "First, we implement the binary indicator function:\n",
        "$$\\mathbb{1}(e_i , f_{\\tilde{e}})$$"
      ]
    },
    {
      "cell_type": "code",
      "execution_count": null,
      "metadata": {
        "id": "tAheyJVqz5UL"
      },
      "outputs": [],
      "source": [
        "def binary_indicator_function(entity: str, field_uris: List[str]) -> int:\n",
        "  \"\"\"Indicates whether or not the entity is present in the field\n",
        "\n",
        "  Args:\n",
        "    entity: URI string.\n",
        "    field_uris: List of URI string in field.\n",
        "\n",
        "  Returns:\n",
        "    1 if entity is in the field, 0 otherwise.\n",
        "  \"\"\"\n",
        "  return 1 if entity in field_uris else 0"
      ]
    },
    {
      "cell_type": "markdown",
      "metadata": {
        "id": "b2JgbtKlrv1g"
      },
      "source": [
        "Then, we implement a function to get document frequencies.\n",
        "\n",
        "$$df_{e,f} = \\sum_{e' \\in E} \\mathbb{1}(e_i,f_{\\tilde{e}'})$$\n",
        "\n",
        "$$df_f = |\\{e' \\in E : f_{\\tilde{e}'} \\neq \\emptyset\\}|$$"
      ]
    },
    {
      "cell_type": "code",
      "execution_count": null,
      "metadata": {
        "id": "PZAJCec4-meD"
      },
      "outputs": [],
      "source": [
        "def get_document_frequencies(f: str, entity: str, entity_based_reps: List[Dict]) -> Tuple[int, int]:\n",
        "  \"\"\"Computes document frequencies for entity matches feature score.\n",
        "\n",
        "  df_e_f is the total number of documents that contain the entity e in field f.\n",
        "  df_f is the number of documents with a non-empty field f.\n",
        "\n",
        "  Args:\n",
        "    f: Field.\n",
        "    entity: URI string.\n",
        "    entity_based_reps: All entity-based representations.\n",
        "\n",
        "  Returns:\n",
        "    Tuple with df_e_f and df_f.\n",
        "  \"\"\"\n",
        "  df_e_f, df_f = 0, 0\n",
        "  for e in entity_based_reps:\n",
        "    if f in e.keys():\n",
        "      df_f += 1\n",
        "      if entity in e[f]:\n",
        "        df_e_f += 1\n",
        "\n",
        "  return df_e_f, df_f"
      ]
    },
    {
      "cell_type": "markdown",
      "metadata": {
        "id": "5vB3kcgcsud2"
      },
      "source": [
        "Based on the two previous functions, we implement the entity matches feature score.\n",
        "\n",
        "$$\t\t      \tf_{E}(e_i; e) = \\log \\sum_{f \\in \\tilde{F}} w_{f}^{E} \\left( (1- \\lambda )\\, \\mathbb{1}(e_i , f_{\\tilde{e}}) + \\lambda\\, \\frac{\\sum_{e' \\in E} \\mathbb{1}(e_i,f_{\\tilde{e}'})}{|\\{e' \\in E : f_{\\tilde{e}'} \\neq \\emptyset\\}|} \\right)\n",
        "$$"
      ]
    },
    {
      "cell_type": "code",
      "execution_count": null,
      "metadata": {
        "id": "mSY7yessph3V"
      },
      "outputs": [],
      "source": [
        "def compute_entity_matches_feature(entity:str, entity_based_rep:Dict, entity_based_reps:List[Dict], field_weights: Dict[str,float], smoothing_param:float=0.1) -> float:\n",
        "  \"\"\"Computes entity matches feature score for an entity.\n",
        "\n",
        "  Args:\n",
        "    entity: URI string.\n",
        "    entity_based_rep: Entity-based representation.\n",
        "    entity_based_reps: All entity-based representations.\n",
        "    field_weights: Field weights may be set manually or via dynamic mapping\n",
        "      using PRMS.\n",
        "    smoothing_param: Smoothing parameter.Defaults to 0.1.\n",
        "  Returns:\n",
        "    Entity matches feature score.\n",
        "  \"\"\"\n",
        "  sum = 0\n",
        "  for f, w_f_e in field_weights.items():\n",
        "    e_presence = binary_indicator_function(entity, entity_based_rep[f]) if f in entity_based_rep else 0\n",
        "    df_e_f, df_f = get_document_frequencies(f, entity, entity_based_reps)\n",
        "    sum += w_f_e * ((1 - smoothing_param) * e_presence + smoothing_param * df_e_f / df_f)\n",
        "  return math.log(sum)"
      ]
    },
    {
      "cell_type": "markdown",
      "metadata": {
        "id": "qsi1G_R0qNnb"
      },
      "source": [
        "Tests"
      ]
    },
    {
      "cell_type": "code",
      "execution_count": null,
      "metadata": {
        "colab": {
          "base_uri": "https://localhost:8080/"
        },
        "id": "jaB6GGHUqP2R",
        "outputId": "9f9013ba-36b7-48aa-88f2-da62604243a8"
      },
      "outputs": [
        {
          "name": "stderr",
          "output_type": "stream",
          "text": [
            "%%run_pytest[clean] and %%run_pytest are deprecated in favor of %%ipytest. %%ipytest will clean tests, evaluate the cell and then run pytest. To disable cleaning, configure ipytest with ipytest.config(clean=False).\n",
            "ipytest.clean_tests is deprecated in favor of ipytest.clean\n"
          ]
        },
        {
          "name": "stdout",
          "output_type": "stream",
          "text": [
            "\u001b[32m.\u001b[0m\u001b[32m.\u001b[0m\u001b[32m.\u001b[0m\u001b[32m                                                                                          [100%]\u001b[0m\n",
            "\u001b[32m\u001b[32m\u001b[1m3 passed\u001b[0m\u001b[32m in 0.02s\u001b[0m\u001b[0m\n"
          ]
        }
      ],
      "source": [
        "%%run_pytest[clean]\n",
        "\n",
        "def test_binary_indicator_function():\n",
        "  assert 1 == binary_indicator_function(\"<Honolulu>\", [\"<Honolulu>\", \"<Hawaii>\"])\n",
        "  assert 0 == binary_indicator_function(\"<Honolulu>\", [\"<Gary_Indiana>\"])\n",
        "\n",
        "def test_get_document_frequencies():\n",
        "  assert (1, 1) == get_document_frequencies(\"child\", QUERY[1][0], ENTITY_BASED_REPS)\n",
        "  assert (0, 2) == get_document_frequencies(\"birthPlace\", QUERY[1][0], ENTITY_BASED_REPS)\n",
        "\n",
        "def test_compute_entity_matches_feature():\n",
        "  assert pytest.approx(math.log(0.4), rel=1e-2) == compute_entity_matches_feature(QUERY[1][0], ENTITY_BASED_REPS[0], ENTITY_BASED_REPS, FIELD_WEIGHTS)\n",
        "  assert pytest.approx(math.log(0.04), rel=1e-2) == compute_entity_matches_feature(QUERY[1][0], ENTITY_BASED_REPS[1], ENTITY_BASED_REPS, FIELD_WEIGHTS)\n"
      ]
    }
  ],
  "metadata": {
    "colab": {
      "provenance": []
    },
    "kernelspec": {
      "display_name": "Python 3",
      "name": "python3"
    },
    "language_info": {
      "name": "python"
    }
  },
  "nbformat": 4,
  "nbformat_minor": 0
}
