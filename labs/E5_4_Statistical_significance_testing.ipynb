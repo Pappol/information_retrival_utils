{
  "cells": [
    {
      "cell_type": "markdown",
      "metadata": {
        "id": "TCtgThg9q0K8"
      },
      "source": [
        "# Student's paired sample t-test\n",
        "\n",
        "In this exercise you'll need to complete the code for computing the t statistic and p-value of a Student's paired sample t-test.\n",
        "\n",
        "$H_0: \\bar{x}_A = \\bar{x}_B$\n",
        "\n",
        "$H_1: \\bar{x}_A \\neq \\bar{x}_B$"
      ]
    },
    {
      "cell_type": "code",
      "execution_count": null,
      "metadata": {
        "id": "8nuiMIvKxGZ2"
      },
      "outputs": [],
      "source": [
        "import ipytest\n",
        "import numpy as np\n",
        "import pytest\n",
        "from scipy import stats\n",
        "from typing import List\n",
        "\n",
        "ipytest.autoconfig()"
      ]
    },
    {
      "cell_type": "markdown",
      "metadata": {
        "id": "6xgkvXdGri_6"
      },
      "source": [
        "## t statistic\n",
        "\n",
        "$$t = \\frac{\\bar{x}_D}{\\frac{s_D}{\\sqrt[]{n}}}$$\n",
        "\n",
        "with $\\bar{x}_D$ and $s_D$ as the average and standard deviation of the differences between all pair."
      ]
    },
    {
      "cell_type": "code",
      "execution_count": null,
      "metadata": {
        "id": "F7CBqgWOTDFr"
      },
      "outputs": [],
      "source": [
        "def t_stat(a: List[float], b: List[float], n: int) -> float:\n",
        "    \"\"\"Computes the t statistic between two systems.\n",
        "\n",
        "    Args:\n",
        "      a: System A recorded metric for each topic.\n",
        "      b: System B recorded metric for each topic.\n",
        "      n: Size of the sample.\n",
        "\n",
        "    Retuns:\n",
        "      t statistic for t-test between two systems.\n",
        "    \"\"\"\n",
        "    n = min(len(a), n)\n",
        "    x = np.array(a[:n]) - np.array(b[:n])\n",
        "\n",
        "    x_D = np.mean(x)\n",
        "    s_D = np.sqrt(sum((x-x_D)**2) / (n-1))\n",
        "\n",
        "    return x_D / (s_D/np.sqrt(n))"
      ]
    },
    {
      "cell_type": "markdown",
      "metadata": {
        "id": "W-K_S2_1sodD"
      },
      "source": [
        "# p-value\n",
        "\n",
        "$$\\text{p-value} = P(T(X^*) \\leq T(X_0) \\mid H_0) + P(T(X^*) \\geq T(X_0) \\mid H_0)$$\n",
        "\n",
        "Each probability composing the p-value can be computed using the cumulative distribution function (CDF) of the t-Student distribution. SciPy has an implementation of the [CDF](https://docs.scipy.org/doc/scipy-1.9.1/reference/generated/scipy.stats.t.html): `cdf(x, df, loc=0, scale=1)`."
      ]
    },
    {
      "cell_type": "code",
      "execution_count": null,
      "metadata": {
        "id": "gzxGL-oCxZVM"
      },
      "outputs": [],
      "source": [
        "def p_value(n: int, t_stat: float) -> float:\n",
        "    \"\"\"Computes the p-value.\n",
        "\n",
        "    Args:\n",
        "      n: Size of the sample.\n",
        "      t_stat: t statisitic.\n",
        "\n",
        "    Returns:\n",
        "      p-value for t statistic.\n",
        "    \"\"\"\n",
        "    df = n - 1\n",
        "    p = (1.0 - stats.t.cdf(abs(t_stat), df)) * 2.0\n",
        "    return p"
      ]
    },
    {
      "cell_type": "markdown",
      "metadata": {
        "id": "zvyIC2fntM8D"
      },
      "source": [
        "## Tests"
      ]
    },
    {
      "cell_type": "code",
      "execution_count": null,
      "metadata": {
        "id": "51wA7IT_txnq"
      },
      "outputs": [],
      "source": [
        "%%ipytest\n",
        "\n",
        "def test_lecture_example():\n",
        "    system_A = [0.2215, 0.3924, 0.654, 0.5611, 0.9186, 0.1104, 0.6086, 0.5062, 0.9688, 0.995]\n",
        "    system_B = [0.0765, 0.0426, 0.5738, 0.1571, 0.9881, 0.7164, 0.7507, 0.435, 0.3959, 0.8709]\n",
        "    n = len(system_A)\n",
        "    t = t_stat(system_A, system_B, n)\n",
        "    p = p_value(n, t)\n",
        "\n",
        "    assert t.round(3) == 0.897\n",
        "    assert p.round(3) == 0.393"
      ]
    }
  ],
  "metadata": {
    "colab": {
      "provenance": []
    },
    "kernelspec": {
      "display_name": "Python 3",
      "name": "python3"
    },
    "language_info": {
      "name": "python"
    }
  },
  "nbformat": 4,
  "nbformat_minor": 0
}
