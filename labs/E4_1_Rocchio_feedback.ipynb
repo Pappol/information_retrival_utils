{
  "cells": [
    {
      "cell_type": "markdown",
      "metadata": {
        "id": "VAvhvrho5G0i"
      },
      "source": [
        "# Rocchio feedback\n",
        "\n",
        "Compute an expanded query model using Rocchio feedback, given a set of positive and negative documents as expicit feedback."
      ]
    },
    {
      "cell_type": "code",
      "source": [
        "pip install ipytest"
      ],
      "metadata": {
        "id": "DMz2Om5b5KJP",
        "colab": {
          "base_uri": "https://localhost:8080/"
        },
        "outputId": "86c0d21a-1199-46cf-f119-3c0d56857e19"
      },
      "execution_count": null,
      "outputs": [
        {
          "output_type": "stream",
          "name": "stdout",
          "text": [
            "Collecting ipytest\n",
            "  Downloading ipytest-0.13.3-py3-none-any.whl (14 kB)\n",
            "Requirement already satisfied: ipython in /usr/local/lib/python3.10/dist-packages (from ipytest) (7.34.0)\n",
            "Requirement already satisfied: packaging in /usr/local/lib/python3.10/dist-packages (from ipytest) (23.1)\n",
            "Requirement already satisfied: pytest>=5.4 in /usr/local/lib/python3.10/dist-packages (from ipytest) (7.4.0)\n",
            "Requirement already satisfied: iniconfig in /usr/local/lib/python3.10/dist-packages (from pytest>=5.4->ipytest) (2.0.0)\n",
            "Requirement already satisfied: pluggy<2.0,>=0.12 in /usr/local/lib/python3.10/dist-packages (from pytest>=5.4->ipytest) (1.2.0)\n",
            "Requirement already satisfied: exceptiongroup>=1.0.0rc8 in /usr/local/lib/python3.10/dist-packages (from pytest>=5.4->ipytest) (1.1.3)\n",
            "Requirement already satisfied: tomli>=1.0.0 in /usr/local/lib/python3.10/dist-packages (from pytest>=5.4->ipytest) (2.0.1)\n",
            "Requirement already satisfied: setuptools>=18.5 in /usr/local/lib/python3.10/dist-packages (from ipython->ipytest) (67.7.2)\n",
            "Collecting jedi>=0.16 (from ipython->ipytest)\n",
            "  Downloading jedi-0.19.0-py2.py3-none-any.whl (1.6 MB)\n",
            "\u001b[2K     \u001b[90m━━━━━━━━━━━━━━━━━━━━━━━━━━━━━━━━━━━━━━━━\u001b[0m \u001b[32m1.6/1.6 MB\u001b[0m \u001b[31m9.1 MB/s\u001b[0m eta \u001b[36m0:00:00\u001b[0m\n",
            "\u001b[?25hRequirement already satisfied: decorator in /usr/local/lib/python3.10/dist-packages (from ipython->ipytest) (4.4.2)\n",
            "Requirement already satisfied: pickleshare in /usr/local/lib/python3.10/dist-packages (from ipython->ipytest) (0.7.5)\n",
            "Requirement already satisfied: traitlets>=4.2 in /usr/local/lib/python3.10/dist-packages (from ipython->ipytest) (5.7.1)\n",
            "Requirement already satisfied: prompt-toolkit!=3.0.0,!=3.0.1,<3.1.0,>=2.0.0 in /usr/local/lib/python3.10/dist-packages (from ipython->ipytest) (3.0.39)\n",
            "Requirement already satisfied: pygments in /usr/local/lib/python3.10/dist-packages (from ipython->ipytest) (2.16.1)\n",
            "Requirement already satisfied: backcall in /usr/local/lib/python3.10/dist-packages (from ipython->ipytest) (0.2.0)\n",
            "Requirement already satisfied: matplotlib-inline in /usr/local/lib/python3.10/dist-packages (from ipython->ipytest) (0.1.6)\n",
            "Requirement already satisfied: pexpect>4.3 in /usr/local/lib/python3.10/dist-packages (from ipython->ipytest) (4.8.0)\n",
            "Requirement already satisfied: parso<0.9.0,>=0.8.3 in /usr/local/lib/python3.10/dist-packages (from jedi>=0.16->ipython->ipytest) (0.8.3)\n",
            "Requirement already satisfied: ptyprocess>=0.5 in /usr/local/lib/python3.10/dist-packages (from pexpect>4.3->ipython->ipytest) (0.7.0)\n",
            "Requirement already satisfied: wcwidth in /usr/local/lib/python3.10/dist-packages (from prompt-toolkit!=3.0.0,!=3.0.1,<3.1.0,>=2.0.0->ipython->ipytest) (0.2.6)\n",
            "Installing collected packages: jedi, ipytest\n",
            "Successfully installed ipytest-0.13.3 jedi-0.19.0\n"
          ]
        }
      ]
    },
    {
      "cell_type": "code",
      "execution_count": null,
      "metadata": {
        "id": "2oPPH8335G0l"
      },
      "outputs": [],
      "source": [
        "import ipytest\n",
        "import pytest\n",
        "from typing import List\n",
        "\n",
        "ipytest.autoconfig()"
      ]
    },
    {
      "cell_type": "markdown",
      "metadata": {
        "id": "jb9882cW5G0m"
      },
      "source": [
        "Vocabulary"
      ]
    },
    {
      "cell_type": "code",
      "execution_count": null,
      "metadata": {
        "id": "Hcv8xnWj5G0n"
      },
      "outputs": [],
      "source": [
        "VOCAB = ['news', 'about', 'presidental', 'campaign', 'food', 'text']"
      ]
    },
    {
      "cell_type": "markdown",
      "metadata": {
        "id": "C3ZJ2XBG5G0n"
      },
      "source": [
        "Query vector"
      ]
    },
    {
      "cell_type": "code",
      "execution_count": null,
      "metadata": {
        "id": "O-jdXQ8_5G0n"
      },
      "outputs": [],
      "source": [
        "Q = [1, 1, 1, 1, 0, 0]"
      ]
    },
    {
      "cell_type": "markdown",
      "metadata": {
        "id": "FUDanX_V5G0n"
      },
      "source": [
        "Document-term matrix (each row corresponds to a document vector)"
      ]
    },
    {
      "cell_type": "code",
      "execution_count": null,
      "metadata": {
        "id": "3Baj_rPJ5G0o"
      },
      "outputs": [],
      "source": [
        "DT_MATRIX = [\n",
        "    [1.5, 0.1, 0, 0, 0, 0],\n",
        "    [1.5, 0.1, 0, 2, 2, 0],\n",
        "    [1.5, 0, 3, 2, 0, 0],\n",
        "    [1.5, 0, 4, 2, 0, 0],\n",
        "    [1.5, 0, 0, 6, 2, 0]\n",
        "]"
      ]
    },
    {
      "cell_type": "markdown",
      "metadata": {
        "id": "AlSxZUU45G0o"
      },
      "source": [
        "Feedback: IDs (indices) of positive and negative documents"
      ]
    },
    {
      "cell_type": "code",
      "execution_count": null,
      "metadata": {
        "id": "P7YQRW7g5G0p"
      },
      "outputs": [],
      "source": [
        "D_POS = [2, 3]\n",
        "D_NEG = [0, 1, 4]"
      ]
    },
    {
      "cell_type": "markdown",
      "metadata": {
        "id": "3TbcRl4s5G0p"
      },
      "source": [
        "## Rocchio feedback\n",
        "\n",
        "Compute the updated query according to:\n",
        "$$\\vec{q}_m = \\alpha \\vec{q} + \\frac{\\beta}{|D^+|}\\sum_{d \\in D^+}\\vec{d} - \\frac{\\gamma}{|D^-|}\\sum_{d \\in D^-}\\vec{d}$$\n",
        "\n",
        "where\n",
        "  - $\\vec{q}$ is the original query vector\n",
        "  - $\\vec{d}$ is the term vector of document $d$\n",
        "  - $D^+, D^-$ are set of relevant and non-relevant feedback documents\n",
        "  - $\\alpha, \\beta, \\gamma$ are parameters that control the movement of the original vector"
      ]
    },
    {
      "cell_type": "code",
      "execution_count": null,
      "metadata": {
        "id": "S2QDBH6g5G0p"
      },
      "outputs": [],
      "source": [
        "def get_updated_query(\n",
        "    q: List[int], d_pos: List[int], d_neg: List[int],\n",
        "    alpha: float, beta: float, gamma: float\n",
        ") -> List[int]:\n",
        "    \"\"\"Computes an updated query model using Rocchio feedback.\n",
        "\n",
        "    Args:\n",
        "        q: Query vector.\n",
        "        d_pos: List of positive feedback document IDs.\n",
        "        d_neg: List of positive feedback document IDs.\n",
        "        alpha: Feedback parameter alpha.\n",
        "        beta: Feedback parameter beta.\n",
        "        gamma: Feedback parameter gamma.\n",
        "\n",
        "    Returns:\n",
        "        Updated query vector.\n",
        "    \"\"\"\n",
        "    q_m = [alpha * t for t in q]\n",
        "\n",
        "    # Positive feedback docs\n",
        "    for idx in d_pos:\n",
        "        for t in range(len(VOCAB)):\n",
        "            q_m[t] += beta / len(d_pos) * DT_MATRIX[idx][t]\n",
        "\n",
        "    # Negative feedback docs\n",
        "    for idx in d_neg:\n",
        "        for t in range(len(VOCAB)):\n",
        "            q_m[t] -= gamma / len(d_neg) * DT_MATRIX[idx][t]\n",
        "\n",
        "    return q_m"
      ]
    },
    {
      "cell_type": "markdown",
      "source": [
        "### Alternative solution, using numpy"
      ],
      "metadata": {
        "id": "nJOrnq9Ard4d"
      }
    },
    {
      "cell_type": "code",
      "source": [
        "import numpy as np\n",
        "\n",
        "def get_updated_query(\n",
        "    q: List[int], d_pos: List[int], d_neg: List[int],\n",
        "    alpha: float, beta: float, gamma: float\n",
        ") -> List[int]:\n",
        "    \"\"\"Computes an updated query model using Rocchio feedback.\n",
        "\n",
        "    Args:\n",
        "        q: Query vector.\n",
        "        d_pos: List of positive feedback document IDs.\n",
        "        d_neg: List of positive feedback document IDs.\n",
        "        alpha: Feedback parameter alpha.\n",
        "        beta: Feedback parameter beta.\n",
        "        gamma: Feedback parameter gamma.\n",
        "\n",
        "    Returns:\n",
        "        Updated query vector.\n",
        "    \"\"\"\n",
        "    q = np.array(q)\n",
        "    dt_matrix = np.array(DT_MATRIX)\n",
        "\n",
        "    pos_sum = dt_matrix[d_pos].sum(axis=0)  # positive feedback\n",
        "    neg_sum = dt_matrix[d_neg].sum(axis=0)  # negative feedback\n",
        "    q_m = alpha * q + beta / len(d_pos) * pos_sum - gamma / len(d_neg) * neg_sum\n",
        "\n",
        "    return q_m.tolist()"
      ],
      "metadata": {
        "id": "zFlCOyXFrlUH"
      },
      "execution_count": null,
      "outputs": []
    },
    {
      "cell_type": "markdown",
      "metadata": {
        "id": "I7Rq8j8D5G0q"
      },
      "source": [
        "Tests."
      ]
    },
    {
      "cell_type": "code",
      "execution_count": null,
      "metadata": {
        "id": "8nNr9t2E5G0q",
        "colab": {
          "base_uri": "https://localhost:8080/"
        },
        "outputId": "fadf2582-677a-4414-c3f0-cd9afc20bb2a"
      },
      "outputs": [
        {
          "output_type": "stream",
          "name": "stderr",
          "text": [
            "%%run_pytest[clean] and %%run_pytest are deprecated in favor of %%ipytest. %%ipytest will clean tests, evaluate the cell and then run pytest. To disable cleaning, configure ipytest with ipytest.config(clean=False).\n",
            "ipytest.clean_tests is deprecated in favor of ipytest.clean\n"
          ]
        },
        {
          "output_type": "stream",
          "name": "stdout",
          "text": [
            "\u001b[32m.\u001b[0m\u001b[32m.\u001b[0m\u001b[32m                                                                                           [100%]\u001b[0m\n",
            "\u001b[32m\u001b[32m\u001b[1m2 passed\u001b[0m\u001b[32m in 0.03s\u001b[0m\u001b[0m\n"
          ]
        }
      ],
      "source": [
        "%%run_pytest[clean]\n",
        "\n",
        "def test_no_expansion():\n",
        "    q_m = get_updated_query(Q, D_POS, D_NEG, 1, 0, 0)\n",
        "    assert q_m == Q\n",
        "\n",
        "def test_expansion():\n",
        "    q_m = get_updated_query(Q, D_POS, D_NEG, 0.6, 0.2, 0.2)\n",
        "    assert q_m == pytest.approx([0.600, 0.587, 1.300, 0.467, -0.267, 0], rel=1e-2)"
      ]
    }
  ],
  "metadata": {
    "kernelspec": {
      "display_name": "Python 3",
      "language": "python",
      "name": "python3"
    },
    "language_info": {
      "codemirror_mode": {
        "name": "ipython",
        "version": 3
      },
      "file_extension": ".py",
      "mimetype": "text/x-python",
      "name": "python",
      "nbconvert_exporter": "python",
      "pygments_lexer": "ipython3",
      "version": "3.7.4"
    },
    "colab": {
      "provenance": []
    }
  },
  "nbformat": 4,
  "nbformat_minor": 0
}