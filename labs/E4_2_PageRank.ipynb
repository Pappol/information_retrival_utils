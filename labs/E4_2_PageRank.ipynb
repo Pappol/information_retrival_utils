{
  "cells": [
    {
      "cell_type": "markdown",
      "metadata": {
        "id": "Wv0uJoff5E5L"
      },
      "source": [
        "# PageRank calculation"
      ]
    },
    {
      "cell_type": "code",
      "execution_count": 2,
      "metadata": {
        "id": "8ag2D1ta5JK_"
      },
      "outputs": [
        {
          "name": "stdout",
          "output_type": "stream",
          "text": [
            "Collecting ipytest\n",
            "  Obtaining dependency information for ipytest from https://files.pythonhosted.org/packages/fb/78/1891c3c5eb195ad7f41f50d38631a39d398fa9649a4fcd07d7101d7b2e06/ipytest-0.13.3-py3-none-any.whl.metadata\n",
            "  Downloading ipytest-0.13.3-py3-none-any.whl.metadata (15 kB)\n",
            "Requirement already satisfied: ipython in /opt/anaconda3/envs/text/lib/python3.8/site-packages (from ipytest) (8.12.0)\n",
            "Requirement already satisfied: packaging in /opt/anaconda3/envs/text/lib/python3.8/site-packages (from ipytest) (23.1)\n",
            "Requirement already satisfied: pytest>=5.4 in /opt/anaconda3/envs/text/lib/python3.8/site-packages (from ipytest) (7.4.0)\n",
            "Requirement already satisfied: iniconfig in /opt/anaconda3/envs/text/lib/python3.8/site-packages (from pytest>=5.4->ipytest) (2.0.0)\n",
            "Requirement already satisfied: pluggy<2.0,>=0.12 in /opt/anaconda3/envs/text/lib/python3.8/site-packages (from pytest>=5.4->ipytest) (1.2.0)\n",
            "Requirement already satisfied: exceptiongroup>=1.0.0rc8 in /opt/anaconda3/envs/text/lib/python3.8/site-packages (from pytest>=5.4->ipytest) (1.1.3)\n",
            "Requirement already satisfied: tomli>=1.0.0 in /opt/anaconda3/envs/text/lib/python3.8/site-packages (from pytest>=5.4->ipytest) (2.0.1)\n",
            "Requirement already satisfied: backcall in /opt/anaconda3/envs/text/lib/python3.8/site-packages (from ipython->ipytest) (0.2.0)\n",
            "Requirement already satisfied: decorator in /opt/anaconda3/envs/text/lib/python3.8/site-packages (from ipython->ipytest) (5.1.1)\n",
            "Requirement already satisfied: jedi>=0.16 in /opt/anaconda3/envs/text/lib/python3.8/site-packages (from ipython->ipytest) (0.19.0)\n",
            "Requirement already satisfied: matplotlib-inline in /opt/anaconda3/envs/text/lib/python3.8/site-packages (from ipython->ipytest) (0.1.6)\n",
            "Requirement already satisfied: pickleshare in /opt/anaconda3/envs/text/lib/python3.8/site-packages (from ipython->ipytest) (0.7.5)\n",
            "Requirement already satisfied: prompt-toolkit!=3.0.37,<3.1.0,>=3.0.30 in /opt/anaconda3/envs/text/lib/python3.8/site-packages (from ipython->ipytest) (3.0.39)\n",
            "Requirement already satisfied: pygments>=2.4.0 in /opt/anaconda3/envs/text/lib/python3.8/site-packages (from ipython->ipytest) (2.16.1)\n",
            "Requirement already satisfied: stack-data in /opt/anaconda3/envs/text/lib/python3.8/site-packages (from ipython->ipytest) (0.6.2)\n",
            "Requirement already satisfied: traitlets>=5 in /opt/anaconda3/envs/text/lib/python3.8/site-packages (from ipython->ipytest) (5.10.0)\n",
            "Requirement already satisfied: typing-extensions in /opt/anaconda3/envs/text/lib/python3.8/site-packages (from ipython->ipytest) (4.8.0)\n",
            "Requirement already satisfied: pexpect>4.3 in /opt/anaconda3/envs/text/lib/python3.8/site-packages (from ipython->ipytest) (4.8.0)\n",
            "Requirement already satisfied: appnope in /opt/anaconda3/envs/text/lib/python3.8/site-packages (from ipython->ipytest) (0.1.3)\n",
            "Requirement already satisfied: parso<0.9.0,>=0.8.3 in /opt/anaconda3/envs/text/lib/python3.8/site-packages (from jedi>=0.16->ipython->ipytest) (0.8.3)\n",
            "Requirement already satisfied: ptyprocess>=0.5 in /opt/anaconda3/envs/text/lib/python3.8/site-packages (from pexpect>4.3->ipython->ipytest) (0.7.0)\n",
            "Requirement already satisfied: wcwidth in /opt/anaconda3/envs/text/lib/python3.8/site-packages (from prompt-toolkit!=3.0.37,<3.1.0,>=3.0.30->ipython->ipytest) (0.2.6)\n",
            "Requirement already satisfied: executing>=1.2.0 in /opt/anaconda3/envs/text/lib/python3.8/site-packages (from stack-data->ipython->ipytest) (1.2.0)\n",
            "Requirement already satisfied: asttokens>=2.1.0 in /opt/anaconda3/envs/text/lib/python3.8/site-packages (from stack-data->ipython->ipytest) (2.4.0)\n",
            "Requirement already satisfied: pure-eval in /opt/anaconda3/envs/text/lib/python3.8/site-packages (from stack-data->ipython->ipytest) (0.2.2)\n",
            "Requirement already satisfied: six>=1.12.0 in /opt/anaconda3/envs/text/lib/python3.8/site-packages (from asttokens>=2.1.0->stack-data->ipython->ipytest) (1.16.0)\n",
            "Using cached ipytest-0.13.3-py3-none-any.whl (14 kB)\n",
            "Installing collected packages: ipytest\n",
            "Successfully installed ipytest-0.13.3\n",
            "Note: you may need to restart the kernel to use updated packages.\n"
          ]
        }
      ],
      "source": [
        "pip install ipytest"
      ]
    },
    {
      "cell_type": "code",
      "execution_count": 3,
      "metadata": {
        "id": "dr8ob1225E5N"
      },
      "outputs": [],
      "source": [
        "import ipytest\n",
        "import pytest\n",
        "from typing import Any, Dict, List, Set, Tuple\n",
        "\n",
        "ipytest.autoconfig()"
      ]
    },
    {
      "cell_type": "markdown",
      "metadata": {
        "id": "m7RZ_FyJ5E5O"
      },
      "source": [
        "You're given a web graph in form of an edge list. Each edge is represented as a `(from_node, to_node)` tuple.\n",
        "(We assume that there is at most one link between any pair of nodes and that the input is correct.)"
      ]
    },
    {
      "cell_type": "markdown",
      "metadata": {
        "id": "DnZrVa2m5E5O"
      },
      "source": [
        "## Input 1\n",
        "\n",
        "![](https://raw.githubusercontent.com/iai-group/ir-course-2022/main/resources/pagerank1.png)"
      ]
    },
    {
      "cell_type": "code",
      "execution_count": 4,
      "metadata": {
        "id": "RUkTR4oW5E5P"
      },
      "outputs": [],
      "source": [
        "WEB_GRAPH_1 = [(\"A\", \"B\"), (\"A\", \"C\"), (\"B\", \"C\"), (\"C\", \"A\")]"
      ]
    },
    {
      "cell_type": "markdown",
      "metadata": {
        "id": "m3kmW3Ch5E5P"
      },
      "source": [
        "## Input 2\n",
        "\n",
        "![](https://raw.githubusercontent.com/iai-group/ir-course-2022/main/resources/pagerank2.png)\n",
        "\n",
        "Mind that this web graph contains rank sinks, i.e., nodes that have only incoming edges but no outgoing ones. You'll need to deal with those by adding an incoming link from all nodes (including the very node itself)."
      ]
    },
    {
      "cell_type": "code",
      "execution_count": 5,
      "metadata": {
        "id": "x2daG6No5E5P"
      },
      "outputs": [],
      "source": [
        "WEB_GRAPH_2 = [(1, 2), (1, 3), (3, 1), (3, 2), (3, 5), (4, 5), (4, 6), (5, 4), (5, 6), (6, 4)]"
      ]
    },
    {
      "cell_type": "markdown",
      "metadata": {
        "id": "sVLOmXGZ5E5Q"
      },
      "source": [
        "## Utilities"
      ]
    },
    {
      "cell_type": "code",
      "execution_count": 6,
      "metadata": {
        "id": "ixPfigQG5E5Q"
      },
      "outputs": [],
      "source": [
        "def get_all_nodes(web_graph: List[Tuple[Any, Any]]) -> Set[Any]:\n",
        "    \"\"\"Returns a list of nodes given a web graph.\n",
        "\n",
        "    Params:\n",
        "        web_graph: List of edges.\n",
        "\n",
        "    Returns:\n",
        "        Set of nodes.\n",
        "    \"\"\"\n",
        "    nodes = set()\n",
        "    for (from_node, to_node) in web_graph:\n",
        "        nodes.add(from_node)\n",
        "        nodes.add(to_node)\n",
        "\n",
        "    return nodes"
      ]
    },
    {
      "cell_type": "code",
      "execution_count": 7,
      "metadata": {
        "id": "cYMEUI-05E5R"
      },
      "outputs": [],
      "source": [
        "def get_outlinks_num(web_graph: List[Tuple[Any, Any]]) -> Dict[Any, int]:\n",
        "    \"\"\"Computes the number of outgoing links for each node in a web graph.\n",
        "\n",
        "    Param:\n",
        "        web_graph: List of edges.\n",
        "\n",
        "    Returns:\n",
        "        Dict with nodes as keys and the number of outgoing nodes as values.\n",
        "    \"\"\"\n",
        "    outlinks = {node: 0 for node in get_all_nodes(web_graph)}\n",
        "    for (from_node, to_node) in web_graph:\n",
        "        outlinks[from_node] += 1\n",
        "    return outlinks"
      ]
    },
    {
      "cell_type": "markdown",
      "metadata": {
        "id": "I7mcmfk05E5R"
      },
      "source": [
        "## PageRank calculation\n",
        "\n",
        "The pagerank of a given node $a$ is computed using:\n",
        "\n",
        "$$PR(a) = \\frac{q}{T} + (1-q) \\sum_{i=1}^n \\frac{PR(p_i)}{L(p_i)}$$\n",
        "\n",
        "where\n",
        "  - $q$ is the probability of jumping to a random page\n",
        "  - $T$ is the total number of pages (nodes) in the Web graph\n",
        "  - $p_1\\dots p_n$ are pages that **point to** page $a$\n",
        "  - $PR(p_i)$ is the PageRank value of page $p_i$\n",
        "  - $L(p_i)$ is the number of outgoing links of page $p_i$"
      ]
    },
    {
      "cell_type": "code",
      "execution_count": 8,
      "metadata": {
        "id": "v4miVIZK5E5R"
      },
      "outputs": [],
      "source": [
        "def pagerank(web_graph: List[Tuple[Any, Any]], q: float = 0.15, iterations: int = 3) -> Dict[Any, float]:\n",
        "    \"\"\"Computes PageRank for all nodes in a web graph.\n",
        "\n",
        "    Params:\n",
        "        web_graph: List of edges.\n",
        "        q: Random jump probability.\n",
        "        iterations: Number of iterations.\n",
        "\n",
        "    Returns:\n",
        "        Dict with node names as keys and PageRank scores as values.\n",
        "    \"\"\"\n",
        "    nodes = get_all_nodes(web_graph)\n",
        "    # Calculate the number of outgoing links of each page.\n",
        "    outlinks_num = get_outlinks_num(web_graph)\n",
        "    # Collect all inlinks of a page for more efficient PageRank computation.\n",
        "    inlinks = {node: [] for node in nodes}\n",
        "    for (from_node, to_node) in web_graph:\n",
        "        inlinks[to_node].append(from_node)\n",
        "\n",
        "    # Identify and deal with rank sinks.\n",
        "    for node, lnum in outlinks_num.items():\n",
        "        if lnum == 0:\n",
        "            print('Node {} is a rank sink!'.format(node))\n",
        "            # Add links to all nodes (including the node itself).\n",
        "            for to_node in nodes:\n",
        "                inlinks[to_node].append(node)\n",
        "            # Update outlinks count.\n",
        "            outlinks_num[node] = len(nodes)\n",
        "\n",
        "    # Initialize pagerank values.\n",
        "    pr = {node: 1/len(nodes) for node in nodes}\n",
        "\n",
        "    # Calculate pagerank scores iteratively.\n",
        "    for i in range(iterations):\n",
        "        pr_old = pr.copy()\n",
        "        for node in pr.keys():\n",
        "            pr[node] = q / len(nodes)\n",
        "            # Iterating over all pages p_i that link to node.\n",
        "            for from_node in inlinks[node]:\n",
        "                pr[node] += (1 - q) * pr_old[from_node] / outlinks_num[from_node]\n",
        "\n",
        "    return pr"
      ]
    },
    {
      "cell_type": "code",
      "execution_count": 11,
      "metadata": {},
      "outputs": [
        {
          "name": "stdout",
          "output_type": "stream",
          "text": [
            "{'A': 0.35000000000000003, 'C': 0.25, 'D': 0.25, 'B': 0.15000000000000002}\n"
          ]
        }
      ],
      "source": [
        "graph = [(\"A\", \"D\"), (\"B\", \"A\"), (\"B\", \"C\"), (\"C\", \"A\"), (\"D\", \"B\"), (\"D\", \"C\")]\n",
        "pr = pagerank(graph, q=0.2, iterations=1)\n",
        "print(pr)"
      ]
    },
    {
      "cell_type": "code",
      "execution_count": 12,
      "metadata": {},
      "outputs": [
        {
          "data": {
            "text/plain": [
              "{'A': 0.31000000000000005,\n",
              " 'C': 0.21000000000000002,\n",
              " 'D': 0.33,\n",
              " 'B': 0.15000000000000002}"
            ]
          },
          "execution_count": 12,
          "metadata": {},
          "output_type": "execute_result"
        }
      ],
      "source": [
        "pagerank(graph, q=0.2, iterations=2)"
      ]
    },
    {
      "cell_type": "code",
      "execution_count": 13,
      "metadata": {},
      "outputs": [
        {
          "data": {
            "text/plain": [
              "{'A': 0.25, 'C': 0.25, 'D': 0.25, 'B': 0.25}"
            ]
          },
          "execution_count": 13,
          "metadata": {},
          "output_type": "execute_result"
        }
      ],
      "source": [
        "pagerank(graph, q=0.2, iterations=0)"
      ]
    },
    {
      "cell_type": "markdown",
      "metadata": {
        "id": "5i8pxuUl5E5S"
      },
      "source": [
        "Tests."
      ]
    },
    {
      "cell_type": "code",
      "execution_count": 10,
      "metadata": {
        "id": "e2znTYS75E5S"
      },
      "outputs": [
        {
          "name": "stdout",
          "output_type": "stream",
          "text": [
            "\u001b[32m.\u001b[0m\u001b[32m.\u001b[0m\u001b[32m.\u001b[0m\u001b[32m.\u001b[0m\u001b[32m.\u001b[0m\u001b[32m.\u001b[0m\u001b[32m.\u001b[0m\u001b[32m                                                                                      [100%]\u001b[0m\n",
            "\u001b[32m\u001b[32m\u001b[1m7 passed\u001b[0m\u001b[32m in 0.01s\u001b[0m\u001b[0m\n"
          ]
        },
        {
          "name": "stderr",
          "output_type": "stream",
          "text": [
            "%%run_pytest[clean] and %%run_pytest are deprecated in favor of %%ipytest. %%ipytest will clean tests, evaluate the cell and then run pytest. To disable cleaning, configure ipytest with ipytest.config(clean=False).\n",
            "ipytest.clean_tests is deprecated in favor of ipytest.clean\n"
          ]
        }
      ],
      "source": [
        "%%run_pytest[clean]\n",
        "\n",
        "@pytest.mark.parametrize(\"web_graph,q,iterations,correct_values\", [\n",
        "    (WEB_GRAPH_1, 0.5, 0, {\"A\": 1/3, \"B\": 1/3, \"C\": 1/3}),\n",
        "    (WEB_GRAPH_1, 0.5, 1, {\"A\": 0.3333, \"B\": 0.25, \"C\": 0.4166}),\n",
        "    (WEB_GRAPH_1, 0.5, 2, {\"A\": 0.375, \"B\": 0.25, \"C\": 0.375}),\n",
        "    (WEB_GRAPH_1, 0.5, 3, {\"A\": 0.3541, \"B\": 0.2604, \"C\": 0.3854}),\n",
        "    (WEB_GRAPH_2, 0.15, 0, {1: 1/6, 2: 1/6, 3: 1/6, 4: 1/6, 5: 1/6, 6: 1/6}),\n",
        "    (WEB_GRAPH_2, 0.15, 1, {1: 0.0958, 2: 0.1666, 3: 0.1194, 4: 0.2611, 5: 0.1666, 6: 0.1902}),\n",
        "    (WEB_GRAPH_2, 0.15, 2, {1: 0.0824, 2: 0.1231, 3: 0.0893, 4: 0.2811, 5: 0.1934, 6: 0.2304}),\n",
        "])\n",
        "def test_pagerank(web_graph, q, iterations, correct_values):\n",
        "    assert pagerank(web_graph, q=q, iterations=iterations) == pytest.approx(correct_values, rel=1e-3)"
      ]
    }
  ],
  "metadata": {
    "colab": {
      "provenance": []
    },
    "kernelspec": {
      "display_name": "Python 3",
      "language": "python",
      "name": "python3"
    },
    "language_info": {
      "codemirror_mode": {
        "name": "ipython",
        "version": 3
      },
      "file_extension": ".py",
      "mimetype": "text/x-python",
      "name": "python",
      "nbconvert_exporter": "python",
      "pygments_lexer": "ipython3",
      "version": "3.8.17"
    }
  },
  "nbformat": 4,
  "nbformat_minor": 0
}
