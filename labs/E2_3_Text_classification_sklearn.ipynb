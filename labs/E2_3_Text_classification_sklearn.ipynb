{
  "cells": [
    {
      "cell_type": "markdown",
      "metadata": {
        "id": "WsEvNqgAzZVU"
      },
      "source": [
        "# Experiments with text classifiers in sklearn"
      ]
    },
    {
      "cell_type": "markdown",
      "metadata": {
        "id": "5wkrFjwWzZVX"
      },
      "source": [
        "In this exercise we'll be experimenting with various classification algorithms in scikit learn using the [20 Newsgroups collection](http://people.csail.mit.edu/jrennie/20Newsgroups/).\n",
        "\n",
        "The first part of the notebook shows a detailed example usage of text classification using sklearn (based on [scikit learn's \"Working with text data\" tutorial](https://scikit-learn.org/stable/tutorial/text_analytics/working_with_text_data.html)).\n",
        "The real exercise is at the bottom, where you'll be asked to perform various experiments."
      ]
    },
    {
      "cell_type": "markdown",
      "metadata": {
        "id": "s719rR66zZVX"
      },
      "source": [
        "## Load data"
      ]
    },
    {
      "cell_type": "markdown",
      "metadata": {
        "id": "wTCwWnNmzZVY"
      },
      "source": [
        "In order to get faster execution times, we will work on a partial dataset with only 5 categories out of the 20 available in the dataset:"
      ]
    },
    {
      "cell_type": "code",
      "execution_count": null,
      "metadata": {
        "colab": {
          "background_save": true
        },
        "id": "X6GeX5yjzZVY"
      },
      "outputs": [],
      "source": [
        "categories = [\n",
        "    \"alt.atheism\",\n",
        "    \"soc.religion.christian\",\n",
        "    \"talk.religion.misc\",\n",
        "    \"comp.sys.ibm.pc.hardware\",\n",
        "    \"comp.sys.mac.hardware\"\n",
        "]"
      ]
    },
    {
      "cell_type": "markdown",
      "metadata": {
        "id": "bMpzLSitzZVZ"
      },
      "source": [
        "We load the documents from those categories, divided into train and test sets."
      ]
    },
    {
      "cell_type": "code",
      "execution_count": null,
      "metadata": {
        "colab": {
          "background_save": true
        },
        "id": "ScYYuK6IzZVa"
      },
      "outputs": [],
      "source": [
        "from sklearn.datasets import fetch_20newsgroups\n",
        "\n",
        "train = fetch_20newsgroups(subset=\"train\", categories=categories, shuffle=True, random_state=123)\n",
        "test = fetch_20newsgroups(subset=\"test\", categories=categories, shuffle=True, random_state=123)"
      ]
    },
    {
      "cell_type": "markdown",
      "metadata": {
        "id": "btKGbZKjzZVa"
      },
      "source": [
        "Check which categories got loaded."
      ]
    },
    {
      "cell_type": "code",
      "execution_count": null,
      "metadata": {
        "colab": {
          "background_save": true
        },
        "id": "8w87HviRzZVb",
        "outputId": "98cfcdfc-b01d-464b-9898-4c0bd43f51bf"
      },
      "outputs": [
        {
          "name": "stdout",
          "output_type": "stream",
          "text": [
            "['alt.atheism', 'comp.sys.ibm.pc.hardware', 'comp.sys.mac.hardware', 'soc.religion.christian', 'talk.religion.misc']\n"
          ]
        }
      ],
      "source": [
        "print(train.target_names)"
      ]
    },
    {
      "cell_type": "markdown",
      "metadata": {
        "id": "oWQ_L3iJzZVc"
      },
      "source": [
        "Check the size of training and test splits."
      ]
    },
    {
      "cell_type": "code",
      "execution_count": null,
      "metadata": {
        "colab": {
          "background_save": true
        },
        "id": "qjZiT0h9zZVc",
        "outputId": "388d216d-b5eb-4dbd-eb97-c165fa81040b"
      },
      "outputs": [
        {
          "name": "stdout",
          "output_type": "stream",
          "text": [
            "Training instances: 2624\n",
            "Test instances:     1745\n"
          ]
        }
      ],
      "source": [
        "print(\"Training instances: {}\".format(len(train.data)))\n",
        "print(\"Test instances:     {}\".format(len(test.data)))"
      ]
    },
    {
      "cell_type": "markdown",
      "metadata": {
        "id": "s4hxcU99zZVc"
      },
      "source": [
        "Check target labels of some of the train and test instances."
      ]
    },
    {
      "cell_type": "code",
      "execution_count": null,
      "metadata": {
        "colab": {
          "background_save": true
        },
        "id": "qJiHcb4izZVc",
        "outputId": "fb03a4fd-c016-4e80-bae6-4a1d4927d96e"
      },
      "outputs": [
        {
          "name": "stdout",
          "output_type": "stream",
          "text": [
            "[3 2 1 1 2 3 3 3 1 3]\n",
            "[2 4 1 3 1 0 4 1 0 1]\n"
          ]
        }
      ],
      "source": [
        "print(train.target[:10])\n",
        "print(test.target[:10])"
      ]
    },
    {
      "cell_type": "markdown",
      "metadata": {
        "id": "OdEI8_vtzZVd"
      },
      "source": [
        "## Train a model"
      ]
    },
    {
      "cell_type": "markdown",
      "metadata": {
        "id": "mcml1_YVzZVd"
      },
      "source": [
        "Bag-of-words document representation, using raw term counts."
      ]
    },
    {
      "cell_type": "code",
      "execution_count": null,
      "metadata": {
        "colab": {
          "background_save": true
        },
        "id": "K7boAI3LzZVd"
      },
      "outputs": [],
      "source": [
        "from sklearn.feature_extraction.text import CountVectorizer\n",
        "\n",
        "count_vect = CountVectorizer()\n",
        "X_train_counts = count_vect.fit_transform(train.data)"
      ]
    },
    {
      "cell_type": "markdown",
      "metadata": {
        "id": "xREGZRI2zZVd"
      },
      "source": [
        "Check dimensionality (instances x features)."
      ]
    },
    {
      "cell_type": "code",
      "execution_count": null,
      "metadata": {
        "colab": {
          "background_save": true
        },
        "id": "uoZHOQmfzZVd",
        "outputId": "adba91df-07ab-4350-d9ff-d717dcf4d6e5"
      },
      "outputs": [
        {
          "name": "stdout",
          "output_type": "stream",
          "text": [
            "(2624, 35019)\n"
          ]
        }
      ],
      "source": [
        "print(X_train_counts.shape)"
      ]
    },
    {
      "cell_type": "markdown",
      "metadata": {
        "id": "DWJWOTC3zZVe"
      },
      "source": [
        "Check vocabulary (sample 10 terms)."
      ]
    },
    {
      "cell_type": "code",
      "execution_count": null,
      "metadata": {
        "colab": {
          "background_save": true
        },
        "id": "DB9DFnYVzZVe",
        "outputId": "4bba372a-c408-4d33-8178-9637ff1f05be"
      },
      "outputs": [
        {
          "name": "stdout",
          "output_type": "stream",
          "text": [
            "from (ID: 15098)\n",
            "news (ID: 22831)\n",
            "cbnewsk (ID: 8460)\n",
            "att (ID: 6168)\n",
            "com (ID: 9375)\n",
            "subject (ID: 30550)\n",
            "re (ID: 26598)\n",
            "bible (ID: 7004)\n",
            "unsuitable (ID: 33054)\n",
            "for (ID: 14816)\n"
          ]
        }
      ],
      "source": [
        "for idx, term in enumerate(count_vect.vocabulary_.keys()):\n",
        "    if idx < 10:\n",
        "        print(f\"{term} (ID: {count_vect.vocabulary_[term]})\")"
      ]
    },
    {
      "cell_type": "markdown",
      "metadata": {
        "id": "oX8q_ieIzZVe"
      },
      "source": [
        "Learn a Naive Bayes model on the training data (by default it uses Laplace smoothing with alpha=1)."
      ]
    },
    {
      "cell_type": "code",
      "execution_count": null,
      "metadata": {
        "colab": {
          "background_save": true
        },
        "id": "ibU3WR94zZVe",
        "outputId": "a3cd6222-2425-44eb-d598-81a67c80a20f"
      },
      "outputs": [
        {
          "data": {
            "text/html": [
              "<style>#sk-container-id-1 {color: black;background-color: white;}#sk-container-id-1 pre{padding: 0;}#sk-container-id-1 div.sk-toggleable {background-color: white;}#sk-container-id-1 label.sk-toggleable__label {cursor: pointer;display: block;width: 100%;margin-bottom: 0;padding: 0.3em;box-sizing: border-box;text-align: center;}#sk-container-id-1 label.sk-toggleable__label-arrow:before {content: \"▸\";float: left;margin-right: 0.25em;color: #696969;}#sk-container-id-1 label.sk-toggleable__label-arrow:hover:before {color: black;}#sk-container-id-1 div.sk-estimator:hover label.sk-toggleable__label-arrow:before {color: black;}#sk-container-id-1 div.sk-toggleable__content {max-height: 0;max-width: 0;overflow: hidden;text-align: left;background-color: #f0f8ff;}#sk-container-id-1 div.sk-toggleable__content pre {margin: 0.2em;color: black;border-radius: 0.25em;background-color: #f0f8ff;}#sk-container-id-1 input.sk-toggleable__control:checked~div.sk-toggleable__content {max-height: 200px;max-width: 100%;overflow: auto;}#sk-container-id-1 input.sk-toggleable__control:checked~label.sk-toggleable__label-arrow:before {content: \"▾\";}#sk-container-id-1 div.sk-estimator input.sk-toggleable__control:checked~label.sk-toggleable__label {background-color: #d4ebff;}#sk-container-id-1 div.sk-label input.sk-toggleable__control:checked~label.sk-toggleable__label {background-color: #d4ebff;}#sk-container-id-1 input.sk-hidden--visually {border: 0;clip: rect(1px 1px 1px 1px);clip: rect(1px, 1px, 1px, 1px);height: 1px;margin: -1px;overflow: hidden;padding: 0;position: absolute;width: 1px;}#sk-container-id-1 div.sk-estimator {font-family: monospace;background-color: #f0f8ff;border: 1px dotted black;border-radius: 0.25em;box-sizing: border-box;margin-bottom: 0.5em;}#sk-container-id-1 div.sk-estimator:hover {background-color: #d4ebff;}#sk-container-id-1 div.sk-parallel-item::after {content: \"\";width: 100%;border-bottom: 1px solid gray;flex-grow: 1;}#sk-container-id-1 div.sk-label:hover label.sk-toggleable__label {background-color: #d4ebff;}#sk-container-id-1 div.sk-serial::before {content: \"\";position: absolute;border-left: 1px solid gray;box-sizing: border-box;top: 0;bottom: 0;left: 50%;z-index: 0;}#sk-container-id-1 div.sk-serial {display: flex;flex-direction: column;align-items: center;background-color: white;padding-right: 0.2em;padding-left: 0.2em;position: relative;}#sk-container-id-1 div.sk-item {position: relative;z-index: 1;}#sk-container-id-1 div.sk-parallel {display: flex;align-items: stretch;justify-content: center;background-color: white;position: relative;}#sk-container-id-1 div.sk-item::before, #sk-container-id-1 div.sk-parallel-item::before {content: \"\";position: absolute;border-left: 1px solid gray;box-sizing: border-box;top: 0;bottom: 0;left: 50%;z-index: -1;}#sk-container-id-1 div.sk-parallel-item {display: flex;flex-direction: column;z-index: 1;position: relative;background-color: white;}#sk-container-id-1 div.sk-parallel-item:first-child::after {align-self: flex-end;width: 50%;}#sk-container-id-1 div.sk-parallel-item:last-child::after {align-self: flex-start;width: 50%;}#sk-container-id-1 div.sk-parallel-item:only-child::after {width: 0;}#sk-container-id-1 div.sk-dashed-wrapped {border: 1px dashed gray;margin: 0 0.4em 0.5em 0.4em;box-sizing: border-box;padding-bottom: 0.4em;background-color: white;}#sk-container-id-1 div.sk-label label {font-family: monospace;font-weight: bold;display: inline-block;line-height: 1.2em;}#sk-container-id-1 div.sk-label-container {text-align: center;}#sk-container-id-1 div.sk-container {/* jupyter's `normalize.less` sets `[hidden] { display: none; }` but bootstrap.min.css set `[hidden] { display: none !important; }` so we also need the `!important` here to be able to override the default hidden behavior on the sphinx rendered scikit-learn.org. See: https://github.com/scikit-learn/scikit-learn/issues/21755 */display: inline-block !important;position: relative;}#sk-container-id-1 div.sk-text-repr-fallback {display: none;}</style><div id=\"sk-container-id-1\" class=\"sk-top-container\"><div class=\"sk-text-repr-fallback\"><pre>MultinomialNB()</pre><b>In a Jupyter environment, please rerun this cell to show the HTML representation or trust the notebook. <br />On GitHub, the HTML representation is unable to render, please try loading this page with nbviewer.org.</b></div><div class=\"sk-container\" hidden><div class=\"sk-item\"><div class=\"sk-estimator sk-toggleable\"><input class=\"sk-toggleable__control sk-hidden--visually\" id=\"sk-estimator-id-1\" type=\"checkbox\" checked><label for=\"sk-estimator-id-1\" class=\"sk-toggleable__label sk-toggleable__label-arrow\">MultinomialNB</label><div class=\"sk-toggleable__content\"><pre>MultinomialNB()</pre></div></div></div></div></div>"
            ],
            "text/plain": [
              "MultinomialNB()"
            ]
          },
          "execution_count": 10,
          "metadata": {},
          "output_type": "execute_result"
        }
      ],
      "source": [
        "from sklearn.naive_bayes import MultinomialNB\n",
        "\n",
        "classifier = MultinomialNB(alpha=1.0)\n",
        "classifier.fit(X_train_counts, train.target)"
      ]
    },
    {
      "cell_type": "markdown",
      "metadata": {
        "id": "tkcxksxZzZVe"
      },
      "source": [
        "## Apply the model"
      ]
    },
    {
      "cell_type": "markdown",
      "metadata": {
        "id": "qWnv7pMIzZVf"
      },
      "source": [
        "First, extract the same feature representation by re-using the `CountVectorizer` from before."
      ]
    },
    {
      "cell_type": "code",
      "execution_count": null,
      "metadata": {
        "colab": {
          "background_save": true
        },
        "id": "RKOUTIHszZVf"
      },
      "outputs": [],
      "source": [
        "X_test_counts = count_vect.transform(test.data)"
      ]
    },
    {
      "cell_type": "markdown",
      "metadata": {
        "id": "YaRzekVHzZVf"
      },
      "source": [
        "Check dimensionality (documents x features)."
      ]
    },
    {
      "cell_type": "code",
      "execution_count": null,
      "metadata": {
        "colab": {
          "background_save": true
        },
        "id": "yrZ1ggT8zZVf",
        "outputId": "2eba0bbd-910e-46e4-ffe6-8d52c6f7c5b1"
      },
      "outputs": [
        {
          "name": "stdout",
          "output_type": "stream",
          "text": [
            "(1745, 35019)\n"
          ]
        }
      ],
      "source": [
        "print(X_test_counts.shape)"
      ]
    },
    {
      "cell_type": "markdown",
      "metadata": {
        "id": "EidAzsHgzZVf"
      },
      "source": [
        "Then, predict labels for test instances."
      ]
    },
    {
      "cell_type": "code",
      "execution_count": null,
      "metadata": {
        "colab": {
          "background_save": true
        },
        "id": "rGH8oqLBzZVf"
      },
      "outputs": [],
      "source": [
        "predicted = classifier.predict(X_test_counts)"
      ]
    },
    {
      "cell_type": "markdown",
      "metadata": {
        "id": "B78fcNfgzZVf"
      },
      "source": [
        "Look at some of the predicted labels."
      ]
    },
    {
      "cell_type": "code",
      "execution_count": null,
      "metadata": {
        "colab": {
          "background_save": true
        },
        "id": "mSnJFC89zZVf",
        "outputId": "8fd0b5c7-26ff-4267-cec6-674ff12c1273"
      },
      "outputs": [
        {
          "name": "stdout",
          "output_type": "stream",
          "text": [
            "[2 4 1 3 1 0 3 2 0 1]\n"
          ]
        }
      ],
      "source": [
        "print(predicted[:10])"
      ]
    },
    {
      "cell_type": "markdown",
      "metadata": {
        "id": "QkbnrOltzZVf"
      },
      "source": [
        "## Evaluate model performance\n",
        "\n",
        "We use Accuracy as our measure here."
      ]
    },
    {
      "cell_type": "code",
      "execution_count": null,
      "metadata": {
        "colab": {
          "background_save": true
        },
        "id": "pA4Bl2WHzZVf",
        "outputId": "96dcfd21-0d0e-4cd6-f7f2-3232b7a53a59"
      },
      "outputs": [
        {
          "name": "stdout",
          "output_type": "stream",
          "text": [
            "0.864\n"
          ]
        }
      ],
      "source": [
        "from sklearn import metrics\n",
        "\n",
        "print(f\"{metrics.accuracy_score(test.target, predicted):.3f}\")"
      ]
    },
    {
      "cell_type": "markdown",
      "metadata": {
        "id": "0ZgiZ86OzZVg"
      },
      "source": [
        "## Exercise\n",
        "\n",
        "1) Use TF weighting instead of the raw counts. (See the [sklearn documentation](https://scikit-learn.org/stable/modules/generated/sklearn.feature_extraction.text.TfidfTransformer.html) for `TfidfTransformer` usage.)\n",
        "\n",
        "2) Try at least one different classifier, e.g., [linear SVM](https://scikit-learn.org/stable/modules/generated/sklearn.svm.LinearSVC.html#sklearn.svm.LinearSVC) (or [other SVMs](https://scikit-learn.org/stable/modules/svm.html#svm-classification)).\n",
        "\n",
        "3) Record the results you got in the table below. How far can you push accuracy?"
      ]
    },
    {
      "cell_type": "markdown",
      "metadata": {
        "id": "_JlwGaW8zZVg"
      },
      "source": [
        "### Solution"
      ]
    },
    {
      "cell_type": "markdown",
      "metadata": {
        "id": "339UoHUmzZVg"
      },
      "source": [
        "Building a pipeline for each row in the table, then running an evaluating them in a single loop."
      ]
    },
    {
      "cell_type": "code",
      "execution_count": null,
      "metadata": {
        "colab": {
          "background_save": true
        },
        "id": "3NkvMIEWzZVg"
      },
      "outputs": [],
      "source": [
        "from sklearn.linear_model import SGDClassifier\n",
        "from sklearn.feature_extraction.text import TfidfTransformer\n",
        "from sklearn.pipeline import Pipeline"
      ]
    },
    {
      "cell_type": "markdown",
      "metadata": {
        "id": "gTtr7_1ZzZVg"
      },
      "source": [
        "#### Naive Bayes variants"
      ]
    },
    {
      "cell_type": "code",
      "execution_count": null,
      "metadata": {
        "colab": {
          "background_save": true
        },
        "id": "wEzogpa6zZVg"
      },
      "outputs": [],
      "source": [
        "pipeline_nb_raw = Pipeline([\n",
        "    ('vect', CountVectorizer()),\n",
        "    ('clf', MultinomialNB()),\n",
        "])"
      ]
    },
    {
      "cell_type": "code",
      "execution_count": null,
      "metadata": {
        "colab": {
          "background_save": true
        },
        "id": "qKX64ELSzZVg"
      },
      "outputs": [],
      "source": [
        "pipeline_nb_tf = Pipeline([\n",
        "    ('vect', CountVectorizer()),\n",
        "    ('tfidf', TfidfTransformer(use_idf=False)),\n",
        "    ('clf', MultinomialNB()),\n",
        "])"
      ]
    },
    {
      "cell_type": "markdown",
      "metadata": {
        "id": "wunbIC4szZVg"
      },
      "source": [
        "#### SVM variants"
      ]
    },
    {
      "cell_type": "code",
      "execution_count": null,
      "metadata": {
        "colab": {
          "background_save": true
        },
        "id": "hmuKZfL6zZVg"
      },
      "outputs": [],
      "source": [
        "pipeline_svm_raw = Pipeline([\n",
        "    ('vect', CountVectorizer()),\n",
        "    ('clf', SGDClassifier()),\n",
        "])"
      ]
    },
    {
      "cell_type": "code",
      "execution_count": null,
      "metadata": {
        "colab": {
          "background_save": true
        },
        "id": "v39uMKY6zZVh"
      },
      "outputs": [],
      "source": [
        "pipeline_svm_tf = Pipeline([\n",
        "    ('vect', CountVectorizer()),\n",
        "    ('tfidf', TfidfTransformer(use_idf=False)),\n",
        "    ('clf', SGDClassifier()),\n",
        "])"
      ]
    },
    {
      "cell_type": "code",
      "execution_count": null,
      "metadata": {
        "colab": {
          "background_save": true
        },
        "id": "_AeBm0nzzZVh",
        "outputId": "aca939d6-0eab-4e93-f72c-15148f42d17b"
      },
      "outputs": [
        {
          "name": "stdout",
          "output_type": "stream",
          "text": [
            "0.864\n",
            "0.667\n",
            "0.799\n",
            "0.845\n"
          ]
        }
      ],
      "source": [
        "for pipeline in [\n",
        "    pipeline_nb_raw, pipeline_nb_tf,\n",
        "    pipeline_svm_raw, pipeline_svm_tf\n",
        "]:\n",
        "    pipeline.fit(train.data, train.target)\n",
        "    predicted = pipeline.predict(test.data)\n",
        "    print(f\"{metrics.accuracy_score(test.target, predicted):.3f}\")"
      ]
    },
    {
      "cell_type": "markdown",
      "metadata": {
        "id": "iRkFu7JgzZVm"
      },
      "source": [
        "### Results\n",
        "\n",
        "| Model | Term weighting | Accuracy |\n",
        "| -- | -- |:--:|\n",
        "| Naive Bayes | Raw counts | 0.864 |\n",
        "| Naive Bayes | TF | 0.667 |\n",
        "| SVM | Raw counts | 0.819 |\n",
        "| SVM | TF | 0.851 |\n",
        "| ... | ... | ... |\n"
      ]
    },
    {
      "cell_type": "markdown",
      "metadata": {
        "id": "nk7QEVvLzZVm"
      },
      "source": [
        "## Optional exercise\n",
        "\n",
        "Can you push performance ever further? You could try, for example, more sophisticated text preprocessing (tokenization, stopwords removal, and stemming) using [NLTK](https://www.nltk.org/) (which is part of the Anaconda distribution). See, e.g., [this article](https://towardsdatascience.com/machine-learning-nlp-text-classification-using-scikit-learn-python-and-nltk-c52b92a7c73a) for some hints."
      ]
    }
  ],
  "metadata": {
    "colab": {
      "provenance": []
    },
    "kernelspec": {
      "display_name": "Python 3",
      "language": "python",
      "name": "python3"
    },
    "language_info": {
      "codemirror_mode": {
        "name": "ipython",
        "version": 3
      },
      "file_extension": ".py",
      "mimetype": "text/x-python",
      "name": "python",
      "nbconvert_exporter": "python",
      "pygments_lexer": "ipython3",
      "version": "3.7.4"
    }
  },
  "nbformat": 4,
  "nbformat_minor": 0
}
